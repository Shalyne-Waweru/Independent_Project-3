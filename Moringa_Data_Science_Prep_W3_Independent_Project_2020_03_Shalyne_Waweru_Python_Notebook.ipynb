{
  "nbformat": 4,
  "nbformat_minor": 0,
  "metadata": {
    "colab": {
      "name": "Moringa_Data_Science_Prep_W3_Independent_Project_2020_03_Shalyne_Waweru_Python_Notebook",
      "provenance": [],
      "toc_visible": true,
      "authorship_tag": "ABX9TyPthk5qjodtuefk8VQ+nIco",
      "include_colab_link": true
    },
    "kernelspec": {
      "name": "python3",
      "display_name": "Python 3"
    }
  },
  "cells": [
    {
      "cell_type": "markdown",
      "metadata": {
        "id": "view-in-github",
        "colab_type": "text"
      },
      "source": [
        "<a href=\"https://colab.research.google.com/github/Shalyne-Waweru/Independent_Project-3/blob/master/Moringa_Data_Science_Prep_W3_Independent_Project_2020_03_Shalyne_Waweru_Python_Notebook.ipynb\" target=\"_parent\"><img src=\"https://colab.research.google.com/assets/colab-badge.svg\" alt=\"Open In Colab\"/></a>"
      ]
    },
    {
      "cell_type": "markdown",
      "metadata": {
        "id": "0o5qoZtFWpgA",
        "colab_type": "text"
      },
      "source": [
        "# INDEPENDENT PROJECT(PART 1)"
      ]
    },
    {
      "cell_type": "code",
      "metadata": {
        "id": "M7VA4h1cWxYi",
        "colab_type": "code",
        "colab": {}
      },
      "source": [
        ""
      ],
      "execution_count": 0,
      "outputs": []
    }
  ]
}